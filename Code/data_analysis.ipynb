{
 "cells": [
  {
   "cell_type": "code",
   "execution_count": 1,
   "metadata": {},
   "outputs": [],
   "source": [
    "import os\n",
    "from PIL import Image\n",
    "import numpy as np\n",
    "import matplotlib.pyplot as plt\n",
    "from tqdm import tqdm"
   ]
  },
  {
   "cell_type": "code",
   "execution_count": 2,
   "metadata": {},
   "outputs": [],
   "source": [
    "vmdd_test_root = \"/home/iain/Desktop/dataset/VMD/test\"\n",
    "vmdd_train_root = \"/home/iain/Desktop/dataset/VMD/train\"\n",
    "unlabeled_root = \"/home/iain/Desktop/dataset/VMD/unlabeled\"\n",
    "Pexels_root = \"/home/iain/Desktop/dataset/VMD/Pexels\"\n",
    "\n",
    "# Get the list of all images in the directory tree\n",
    "vmdd_test_images = [os.path.join(dp, f) for dp, dn, filenames in os.walk(vmdd_test_root) for f in filenames if os.path.splitext(f)[1].lower() in ['.jpg', '.jpeg']]\n",
    "vmdd_test_gt = [os.path.join(dp, f) for dp, dn, filenames in os.walk(vmdd_test_root) for f in filenames if os.path.splitext(f)[1].lower() in ['.png']]\n",
    "\n",
    "vmdd_train_images = [os.path.join(dp, f) for dp, dn, filenames in os.walk(vmdd_train_root) for f in filenames if os.path.splitext(f)[1].lower() in ['.jpg', '.jpeg']]\n",
    "vmdd_train_gt = [os.path.join(dp, f) for dp, dn, filenames in os.walk(vmdd_train_root) for f in filenames if os.path.splitext(f)[1].lower() in ['.png']]\n",
    "\n",
    "unlabeled_images = [os.path.join(dp, f) for dp, dn, filenames in os.walk(unlabeled_root) for f in filenames if os.path.splitext(f)[1].lower() in ['.jpg', '.jpeg']]\n",
    "unlabeled_gt = [os.path.join(dp, f) for dp, dn, filenames in os.walk(unlabeled_root) for f in filenames if os.path.splitext(f)[1].lower() in ['.png']]\n",
    "\n",
    "pexels_images = [os.path.join(dp, f) for dp, dn, filenames in os.walk(Pexels_root) for f in filenames if os.path.splitext(f)[1].lower() in ['.jpg', '.jpeg']]\n",
    "pexels_gt = [os.path.join(dp, f) for dp, dn, filenames in os.walk(Pexels_root) for f in filenames if os.path.splitext(f)[1].lower() in ['.png']]"
   ]
  },
  {
   "cell_type": "code",
   "execution_count": 3,
   "metadata": {},
   "outputs": [
    {
     "name": "stdout",
     "output_type": "stream",
     "text": [
      "VMDD Test Frames:  7152\n",
      "VMDD Train Frames:  7836\n",
      "Unlabeled Frames:  228541\n",
      "Pexels Frames:  984\n"
     ]
    }
   ],
   "source": [
    "# Get the total number of frames for each dataset\n",
    "vmdd_test_frames = len(vmdd_test_images)\n",
    "vmdd_train_frames = len(vmdd_train_images)\n",
    "unlabeled_frames = len(unlabeled_images)\n",
    "pexels_frames = len(pexels_images)\n",
    "\n",
    "print(\"VMDD Test Frames: \", vmdd_test_frames)\n",
    "print(\"VMDD Train Frames: \", vmdd_train_frames)\n",
    "print(\"Unlabeled Frames: \", unlabeled_frames)\n",
    "print(\"Pexels Frames: \", pexels_frames)"
   ]
  },
  {
   "cell_type": "code",
   "execution_count": 4,
   "metadata": {},
   "outputs": [
    {
     "name": "stdout",
     "output_type": "stream",
     "text": [
      "VMDD Test Videos:  125\n",
      "VMDD Train Videos:  143\n",
      "Unlabeled Videos:  525\n",
      "Pexels Videos:  8\n"
     ]
    }
   ],
   "source": [
    "# Get the number of videos in each dataset.\n",
    "vmdd_test_vids = [os.path.join(vmdd_test_root, d) for d in os.listdir(vmdd_test_root) if os.path.isdir(os.path.join(vmdd_test_root, d))]\n",
    "vmdd_train_vids = [os.path.join(vmdd_train_root, d) for d in os.listdir(vmdd_train_root) if os.path.isdir(os.path.join(vmdd_train_root, d))]\n",
    "unlabeled_vids = [os.path.join(unlabeled_root, d) for d in os.listdir(unlabeled_root) if os.path.isdir(os.path.join(unlabeled_root, d))]\n",
    "pexels_vids = [os.path.join(Pexels_root, d) for d in os.listdir(Pexels_root) if os.path.isdir(os.path.join(Pexels_root, d))]\n",
    "\n",
    "print(\"VMDD Test Videos: \", len(vmdd_test_vids))\n",
    "print(\"VMDD Train Videos: \", len(vmdd_train_vids))\n",
    "print(\"Unlabeled Videos: \", len(unlabeled_vids))\n",
    "print(\"Pexels Videos: \", len(pexels_vids))"
   ]
  },
  {
   "cell_type": "code",
   "execution_count": 19,
   "metadata": {},
   "outputs": [
    {
     "data": {
      "image/png": "[encoded data removed]",
      "text/plain": [
       "<Figure size 640x480 with 1 Axes>"
      ]
     },
     "metadata": {},
     "output_type": "display_data"
    }
   ],
   "source": [
    "# Create a histogram of the number of frames in each video. The number of frames in each video is the number of images in the video directory.\n",
    "vmdd_test_vids_frames = [len([os.path.join(dp, f) for dp, dn, filenames in os.walk(d) for f in filenames if os.path.splitext(f)[1].lower() in ['.jpg', '.jpeg']]) for d in vmdd_test_vids] + [len([os.path.join(dp, f) for dp, dn, filenames in os.walk(d) for f in filenames if os.path.splitext(f)[1].lower() in ['.jpg', '.jpeg']]) for d in vmdd_train_vids]\n",
    "unlabeled_vids_frames = [len([os.path.join(dp, f) for dp, dn, filenames in os.walk(d) for f in filenames if os.path.splitext(f)[1].lower() in ['.jpg', '.jpeg']]) for d in unlabeled_vids]\n",
    "\n",
    "# Limit the number of frames to 1000\n",
    "vmdd_test_vids_frames = [min(f, 1000) for f in vmdd_test_vids_frames]\n",
    "unlabeled_vids_frames = [min(f, 1000) for f in unlabeled_vids_frames]\n",
    "\n",
    "# Plot the histogram\n",
    "plt.hist(vmdd_test_vids_frames, bins=20, alpha=1.0)\n",
    "#plt.hist(unlabeled_vids_frames, bins=20, alpha=1.0, label='Unlabeled')\n",
    "plt.title('Frames per Video in VMDD')\n",
    "plt.xlabel('Number of frames')\n",
    "plt.ylabel('Number of videos')\n",
    "plt.show()\n"
   ]
  },
  {
   "cell_type": "code",
   "execution_count": 21,
   "metadata": {},
   "outputs": [
    {
     "name": "stdout",
     "output_type": "stream",
     "text": [
      "VMDD Test Mean:  55.92537313432836\n",
      "VMDD Test Std:  11.934289532762959\n",
      "Unlabeled Mean:  417.24380952380955\n",
      "Unlabeled Std:  218.6173033380955\n"
     ]
    }
   ],
   "source": [
    "# Get the mean and standard deviation of the number of each video in each dataset\n",
    "vmdd_test_mean = np.mean(vmdd_test_vids_frames)\n",
    "vmdd_test_std = np.std(vmdd_test_vids_frames)\n",
    "unlabeled_mean = np.mean(unlabeled_vids_frames)\n",
    "unlabeled_std = np.std(unlabeled_vids_frames)\n",
    "print(\"VMDD Test Mean: \", vmdd_test_mean)\n",
    "print(\"VMDD Test Std: \", vmdd_test_std)\n",
    "print(\"Unlabeled Mean: \", unlabeled_mean)\n",
    "print(\"Unlabeled Std: \", unlabeled_std)\n"
   ]
  },
  {
   "cell_type": "code",
   "execution_count": 22,
   "metadata": {},
   "outputs": [
    {
     "name": "stdout",
     "output_type": "stream",
     "text": [
      "VMDD Test Total Frames:  14988\n",
      "Unlabeled Total Frames:  219053\n"
     ]
    }
   ],
   "source": [
    "# Get the total number of frames in each dataset\n",
    "vmdd_test_total_frames = sum(vmdd_test_vids_frames)\n",
    "unlabeled_total_frames = sum(unlabeled_vids_frames)\n",
    "print(\"VMDD Test Total Frames: \", vmdd_test_total_frames)\n",
    "print(\"Unlabeled Total Frames: \", unlabeled_total_frames)\n"
   ]
  }
 ],
 "metadata": {
  "kernelspec": {
   "display_name": "Python 3",
   "language": "python",
   "name": "python3"
  },
  "language_info": {
   "codemirror_mode": {
    "name": "ipython",
    "version": 3
   },
   "file_extension": ".py",
   "mimetype": "text/x-python",
   "name": "python",
   "nbconvert_exporter": "python",
   "pygments_lexer": "ipython3",
   "version": "3.10.12"
  }
 },
 "nbformat": 4,
 "nbformat_minor": 2
}
